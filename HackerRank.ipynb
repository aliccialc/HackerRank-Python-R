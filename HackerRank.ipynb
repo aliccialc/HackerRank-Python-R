{
  "nbformat": 4,
  "nbformat_minor": 0,
  "metadata": {
    "colab": {
      "provenance": [],
      "authorship_tag": "ABX9TyOItfxpY5FDZ4OvmXWxigcq"
    },
    "kernelspec": {
      "name": "python3",
      "display_name": "Python 3"
    },
    "language_info": {
      "name": "python"
    }
  },
  "cells": [
    {
      "cell_type": "markdown",
      "source": [
        "1. Given an integer, n, perform the following conditional actions: \n",
        "\n",
        "  If n is odd, print Weird\n",
        "\n",
        "  If n is even and in the inclusive range of 2 to 5, print Not Weird\n",
        "\n",
        "  If n is even and in the inclusive range of 6 to 20, print Weird\n",
        "\n",
        "  If n is even and greater than 20, print Not Weird"
      ],
      "metadata": {
        "id": "l4Qf2iFN53yl"
      }
    },
    {
      "cell_type": "code",
      "source": [
        "import math\n",
        "import os\n",
        "import random\n",
        "import re\n",
        "import sys\n",
        "\n",
        "\n",
        "\n",
        "if __name__ == '__main__':\n",
        "    n = int(input().strip())\n",
        "    if n % 2 == 1:\n",
        "        print(\"Weird\")\n",
        "    elif n % 2 == 0 and n>=2 and n<=5:\n",
        "        print(\"Not Weird\")\n",
        "    elif n % 2 == 0 and n>=6 and n<=20:\n",
        "        print(\"Weird\")\n",
        "    elif n % 2 == 0 and n>20:\n",
        "        print(\"Not Weird\")"
      ],
      "metadata": {
        "colab": {
          "base_uri": "https://localhost:8080/"
        },
        "id": "xZSfC38Y3uHp",
        "outputId": "ace6838f-2e76-472e-f189-34cead23e6c0"
      },
      "execution_count": null,
      "outputs": [
        {
          "output_type": "stream",
          "name": "stdout",
          "text": [
            "8\n",
            "Weird\n"
          ]
        }
      ]
    },
    {
      "cell_type": "markdown",
      "source": [
        "2. The provided code stub reads two integers from STDIN, a and b. \n",
        "\n",
        "  Add code to print three lines where:\n",
        "\n",
        "  The first line contains the sum of the two numbers.\n",
        "\n",
        "  The second line contains the difference of the two numbers (first - second).\n",
        "  \n",
        "  The third line contains the product of the two numbers.\n"
      ],
      "metadata": {
        "id": "oUmT3aI86NbL"
      }
    },
    {
      "cell_type": "code",
      "source": [
        "if __name__ == '__main__':\n",
        "    a = int(input())\n",
        "    b = int(input())\n",
        "    print(a + b)\n",
        "    print(a - b)\n",
        "    print(a * b)"
      ],
      "metadata": {
        "id": "OEpT0hY07k88",
        "colab": {
          "base_uri": "https://localhost:8080/"
        },
        "outputId": "7334829d-7d8d-44a8-eca4-7f63ba3cccff"
      },
      "execution_count": null,
      "outputs": [
        {
          "output_type": "stream",
          "name": "stdout",
          "text": [
            "3\n",
            "5\n",
            "8\n",
            "-2\n",
            "15\n"
          ]
        }
      ]
    },
    {
      "cell_type": "markdown",
      "source": [
        "3. The provided code stub reads two integers, a and b, from STDIN.\n",
        "\n",
        "  Add logic to print two lines. The first line should contain the result of integer division,  a// b. The second line should contain the result of float division, a / b.\n",
        "\n",
        "  No rounding or formatting is necessary."
      ],
      "metadata": {
        "id": "rBJQmWOGvD63"
      }
    },
    {
      "cell_type": "code",
      "source": [
        "if __name__ == '__main__':\n",
        "    a = int(input())\n",
        "    b = int(input())\n",
        "    print(a // b)\n",
        "    print(a / b)\n"
      ],
      "metadata": {
        "colab": {
          "base_uri": "https://localhost:8080/"
        },
        "id": "NsAeKLYevJq2",
        "outputId": "c2a06ded-fd8a-482d-a485-8595bb38d2aa"
      },
      "execution_count": null,
      "outputs": [
        {
          "output_type": "stream",
          "name": "stdout",
          "text": [
            "123\n",
            "3\n",
            "41\n",
            "41.0\n"
          ]
        }
      ]
    },
    {
      "cell_type": "markdown",
      "source": [
        "4. The provided code stub reads and integer, n, from STDIN. For all non-negative integers i < n, print i^2."
      ],
      "metadata": {
        "id": "cozYmRxlv_Xx"
      }
    },
    {
      "cell_type": "code",
      "source": [
        "if __name__ == '__main__':\n",
        "    n = int(input())\n",
        "    for i in range(0, n):\n",
        "     print(i*i)\n",
        "      \n",
        "    \n",
        "    "
      ],
      "metadata": {
        "colab": {
          "base_uri": "https://localhost:8080/"
        },
        "id": "7x6i0Z9nvxA6",
        "outputId": "0d6f88af-dfff-4de4-e310-9cdbc72685fe"
      },
      "execution_count": null,
      "outputs": [
        {
          "output_type": "stream",
          "name": "stdout",
          "text": [
            "5\n",
            "0\n",
            "1\n",
            "4\n",
            "9\n",
            "16\n"
          ]
        }
      ]
    },
    {
      "cell_type": "markdown",
      "source": [
        "5. Given a year, determine whether it is a leap year. If it is a leap year, return the Boolean True, otherwise return False.\n",
        "\n",
        "  Note that the code stub provided reads from STDIN and passes arguments to the is_leap function. It is only necessary to complete the is_leap function."
      ],
      "metadata": {
        "id": "qKhIo0m63duC"
      }
    },
    {
      "cell_type": "code",
      "source": [
        "def is_leap(year):\n",
        "    leap = False\n",
        "    if year % 4 == 0:\n",
        "        leap = True\n",
        "    if year % 100 == 0:\n",
        "        if year % 400 == 0:\n",
        "            leap = True\n",
        "        else:\n",
        "            leap = False  \n",
        "    return leap\n",
        "\n",
        "year = int(input())\n",
        "print(is_leap(year))"
      ],
      "metadata": {
        "colab": {
          "base_uri": "https://localhost:8080/"
        },
        "id": "U0Aa5wDNybX3",
        "outputId": "06527b9d-5f3b-4644-e309-fd34815d61ba"
      },
      "execution_count": null,
      "outputs": [
        {
          "output_type": "stream",
          "name": "stdout",
          "text": [
            "1990\n",
            "False\n"
          ]
        }
      ]
    },
    {
      "cell_type": "markdown",
      "source": [
        "6. The included code stub will read an integer, n, from STDIN. Without using any string methods, try to print the following:\n",
        "\n",
        "  123...n\n",
        "\n",
        "  Note that \"...\" represents the consecutive values in between."
      ],
      "metadata": {
        "id": "ULk7TNfTGuNC"
      }
    },
    {
      "cell_type": "code",
      "source": [
        "if __name__ == '__main__':\n",
        "    n = int(input())\n",
        "    \n",
        "    for i in range(1, n + 1):\n",
        "      print(i, end='')"
      ],
      "metadata": {
        "colab": {
          "base_uri": "https://localhost:8080/"
        },
        "id": "88Dxzj55OgaR",
        "outputId": "9fb909cc-8968-40f0-c4fa-b66ef285ab86"
      },
      "execution_count": null,
      "outputs": [
        {
          "output_type": "stream",
          "name": "stdout",
          "text": [
            "3\n",
            "123"
          ]
        }
      ]
    },
    {
      "cell_type": "markdown",
      "source": [
        "7. Let's learn about list comprehensions! You are given three integers x, y and z representing the dimensions of a cuboid along with an integer n. Print a list of all possible coordinates given by (i,j,k) on a 3D grid where the sum of i + j + k is not equal to n. Here, 0<=i<=;0<=j<=y;0<=k<=z. \n",
        "  Please use list comprehensions rather than multiple loops, as a learning exercise."
      ],
      "metadata": {
        "id": "DaJnyStu-L4E"
      }
    },
    {
      "cell_type": "code",
      "source": [
        "if __name__ == '__main__':\n",
        "    x = int(input())\n",
        "    y = int(input())\n",
        "    z = int(input())\n",
        "    n = int(input())\n",
        "\n",
        "    print ([[ i, j, k] for i in range( x + 1) for j in range( y + 1) for k in range ( z + 1 ) if ( ( i + j + k) != n )])"
      ],
      "metadata": {
        "colab": {
          "base_uri": "https://localhost:8080/"
        },
        "id": "7u4_EjK0-15v",
        "outputId": "5d688c0d-4461-4c57-9823-1ef482cd903a"
      },
      "execution_count": null,
      "outputs": [
        {
          "output_type": "stream",
          "name": "stdout",
          "text": [
            "1\n",
            "1\n",
            "2\n",
            "3\n",
            "[[0, 0, 0], [0, 0, 1], [0, 0, 2], [0, 1, 0], [0, 1, 1], [1, 0, 0], [1, 0, 1], [1, 1, 0], [1, 1, 2]]\n"
          ]
        }
      ]
    },
    {
      "cell_type": "markdown",
      "source": [
        "8. Given the participants' score sheet for your University Sports Day, you are required to find the runner-up score. You are given n scores. Store them in a list and find the score of the runner-up.\n",
        "\n",
        "  Input Format\n",
        "\n",
        "  The first line contains n. The second line contains an array A [] of n integers each separated by a space."
      ],
      "metadata": {
        "id": "PHOOXinPgDNy"
      }
    },
    {
      "cell_type": "code",
      "source": [
        "if __name__ == '__main__':\n",
        "    n = int(input())\n",
        "    arr = map(int, input().split())\n",
        "\n",
        "    print(sorted(set(arr), reverse=True)[1]) # sorted = ordena, set = quita duplicados, reverse = ordena de max a min\n"
      ],
      "metadata": {
        "colab": {
          "base_uri": "https://localhost:8080/"
        },
        "id": "TJPwkfDWWFQG",
        "outputId": "a8e2fd64-6500-4507-fd1a-acb0fef96a9e"
      },
      "execution_count": null,
      "outputs": [
        {
          "output_type": "stream",
          "name": "stdout",
          "text": [
            "5\n",
            "2 3 6 6 5\n",
            "5\n"
          ]
        }
      ]
    },
    {
      "cell_type": "markdown",
      "source": [
        "9. Given the names and grades for each student in a class of N students, store them in a nested list and print the name(s) of any student(s) having the second lowest grade.\n",
        "\n",
        "  Note: If there are multiple students with the second lowest grade, order their names alphabetically and print each name on a new line.\n",
        "\n",
        "  Example\n",
        "\n",
        "  records = [[\"chi\",20.0],[\"beta\",50.0],[\"alpha\",50.0]]\n",
        "\n",
        "  The ordered list of scores is [20.0,50.0], so the second lowest score is 50.0. There are two students with that score: [\"beta\",\"alpha\"]. Ordered alphabetically, the names are printed as:\n",
        "\n",
        "  alpha\n",
        "\n",
        "  beta"
      ],
      "metadata": {
        "id": "KszU3TNuZYPF"
      }
    },
    {
      "cell_type": "code",
      "source": [
        "if __name__ == '__main__':\n",
        "    name_score = []\n",
        "    for _ in range(int(input())):\n",
        "        name = input()\n",
        "        score = float(input())\n",
        "        name_score.append([name,score])\n",
        "    grade = sorted(list(set([x[1] for x in name_score])))\n",
        "    sec_lowest = grade[1]\n",
        "    student_list = []\n",
        "    for student in name_score:\n",
        "      if sec_lowest == student[1]:\n",
        "        student_list.append(student[0])\n",
        "    for name in sorted(student_list):\n",
        "        print(name)     \n",
        "  \n",
        "\n",
        "      "
      ],
      "metadata": {
        "colab": {
          "base_uri": "https://localhost:8080/"
        },
        "id": "p_pm5g8XbtUg",
        "outputId": "b2e672b4-d466-484b-dff8-42108c148c81"
      },
      "execution_count": null,
      "outputs": [
        {
          "output_type": "stream",
          "name": "stdout",
          "text": [
            "5\n",
            "Harry\n",
            "37.21\n",
            "Berry\n",
            "37.21\n",
            "Tina\n",
            "37.2\n",
            "Akriti\n",
            "41\n",
            "Harsh\n",
            "39\n",
            "Berry\n",
            "Harry\n"
          ]
        }
      ]
    },
    {
      "cell_type": "markdown",
      "source": [
        "10. The provided code stub will read in a dictionary containing key/value pairs of name:[marks] for a list of students. Print the average of the marks array for the student name provided, showing 2 places after the decimal."
      ],
      "metadata": {
        "id": "k0xuMrIIOj8A"
      }
    },
    {
      "cell_type": "code",
      "source": [
        "if __name__ == '__main__':\n",
        "    n = int(input())\n",
        "    student_marks = {}\n",
        "    for _ in range(n):\n",
        "        name, *line = input().split()\n",
        "        scores = list(map(float, line))\n",
        "        student_marks[name] = scores\n",
        "    query_name = input()\n",
        "\n",
        "    if query_name in student_marks:\n",
        "      average = round(sum(student_marks[query_name])/len(scores), 2)\n",
        "print(\"%.2f\" %average)\n"
      ],
      "metadata": {
        "colab": {
          "base_uri": "https://localhost:8080/"
        },
        "id": "IML5Zf2pOuGe",
        "outputId": "a325a85c-9758-492e-a459-8ca3290d415c"
      },
      "execution_count": 32,
      "outputs": [
        {
          "output_type": "stream",
          "name": "stdout",
          "text": [
            "2\n",
            "Harsh 25 26.5 28\n",
            "Anurag 26 28 30\n",
            "Harsh\n",
            "26.50\n"
          ]
        }
      ]
    }
  ]
}