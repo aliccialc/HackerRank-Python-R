{
  "nbformat": 4,
  "nbformat_minor": 0,
  "metadata": {
    "colab": {
      "provenance": [],
      "authorship_tag": "ABX9TyOiLiDqxsRpiWa9uMLxtGt+",
      "include_colab_link": true
    },
    "kernelspec": {
      "name": "python3",
      "display_name": "Python 3"
    },
    "language_info": {
      "name": "python"
    }
  },
  "cells": [
    {
      "cell_type": "markdown",
      "metadata": {
        "id": "view-in-github",
        "colab_type": "text"
      },
      "source": [
        "<a href=\"https://colab.research.google.com/github/aliccialc/HackerRank-Python-R/blob/main/HackerRank.ipynb\" target=\"_parent\"><img src=\"https://colab.research.google.com/assets/colab-badge.svg\" alt=\"Open In Colab\"/></a>"
      ]
    },
    {
      "cell_type": "markdown",
      "source": [
        "1. Given an integer, n, perform the following conditional actions: \n",
        "\n",
        "  If n is odd, print Weird\n",
        "\n",
        "  If n is even and in the inclusive range of 2 to 5, print Not Weird\n",
        "\n",
        "  If n is even and in the inclusive range of 6 to 20, print Weird\n",
        "\n",
        "  If n is even and greater than 20, print Not Weird"
      ],
      "metadata": {
        "id": "l4Qf2iFN53yl"
      }
    },
    {
      "cell_type": "code",
      "source": [
        "import math\n",
        "import os\n",
        "import random\n",
        "import re\n",
        "import sys\n",
        "\n",
        "\n",
        "\n",
        "if __name__ == '__main__':\n",
        "    n = int(input().strip())\n",
        "    if n % 2 == 1:\n",
        "        print(\"Weird\")\n",
        "    elif n % 2 == 0 and n>=2 and n<=5:\n",
        "        print(\"Not Weird\")\n",
        "    elif n % 2 == 0 and n>=6 and n<=20:\n",
        "        print(\"Weird\")\n",
        "    elif n % 2 == 0 and n>20:\n",
        "        print(\"Not Weird\")"
      ],
      "metadata": {
        "colab": {
          "base_uri": "https://localhost:8080/"
        },
        "id": "xZSfC38Y3uHp",
        "outputId": "ace6838f-2e76-472e-f189-34cead23e6c0"
      },
      "execution_count": null,
      "outputs": [
        {
          "output_type": "stream",
          "name": "stdout",
          "text": [
            "8\n",
            "Weird\n"
          ]
        }
      ]
    },
    {
      "cell_type": "markdown",
      "source": [
        "2. The provided code stub reads two integers from STDIN, a and b. \n",
        "\n",
        "  Add code to print three lines where:\n",
        "\n",
        "  The first line contains the sum of the two numbers.\n",
        "\n",
        "  The second line contains the difference of the two numbers (first - second).\n",
        "  \n",
        "  The third line contains the product of the two numbers.\n"
      ],
      "metadata": {
        "id": "oUmT3aI86NbL"
      }
    },
    {
      "cell_type": "code",
      "source": [
        "if __name__ == '__main__':\n",
        "    a = int(input())\n",
        "    b = int(input())\n",
        "    print(a + b)\n",
        "    print(a - b)\n",
        "    print(a * b)"
      ],
      "metadata": {
        "id": "OEpT0hY07k88",
        "colab": {
          "base_uri": "https://localhost:8080/"
        },
        "outputId": "7334829d-7d8d-44a8-eca4-7f63ba3cccff"
      },
      "execution_count": null,
      "outputs": [
        {
          "output_type": "stream",
          "name": "stdout",
          "text": [
            "3\n",
            "5\n",
            "8\n",
            "-2\n",
            "15\n"
          ]
        }
      ]
    },
    {
      "cell_type": "markdown",
      "source": [
        "3. The provided code stub reads two integers, a and b, from STDIN.\n",
        "\n",
        "  Add logic to print two lines. The first line should contain the result of integer division,  a// b. The second line should contain the result of float division, a / b.\n",
        "\n",
        "  No rounding or formatting is necessary."
      ],
      "metadata": {
        "id": "rBJQmWOGvD63"
      }
    },
    {
      "cell_type": "code",
      "source": [
        "if __name__ == '__main__':\n",
        "    a = int(input())\n",
        "    b = int(input())\n",
        "    print(a // b)\n",
        "    print(a / b)\n"
      ],
      "metadata": {
        "colab": {
          "base_uri": "https://localhost:8080/"
        },
        "id": "NsAeKLYevJq2",
        "outputId": "c2a06ded-fd8a-482d-a485-8595bb38d2aa"
      },
      "execution_count": null,
      "outputs": [
        {
          "output_type": "stream",
          "name": "stdout",
          "text": [
            "123\n",
            "3\n",
            "41\n",
            "41.0\n"
          ]
        }
      ]
    },
    {
      "cell_type": "markdown",
      "source": [
        "4. The provided code stub reads and integer, n, from STDIN. For all non-negative integers i < n, print i^2."
      ],
      "metadata": {
        "id": "cozYmRxlv_Xx"
      }
    },
    {
      "cell_type": "code",
      "source": [
        "if __name__ == '__main__':\n",
        "    n = int(input())\n",
        "    for i in range(0, n):\n",
        "     print(i*i)\n",
        "      \n",
        "    \n",
        "    "
      ],
      "metadata": {
        "colab": {
          "base_uri": "https://localhost:8080/"
        },
        "id": "7x6i0Z9nvxA6",
        "outputId": "41d99384-99fe-4ae2-cbe2-9e8c189689b7"
      },
      "execution_count": null,
      "outputs": [
        {
          "output_type": "stream",
          "name": "stdout",
          "text": [
            "5\n",
            "0\n",
            "1\n",
            "4\n",
            "9\n",
            "16\n"
          ]
        }
      ]
    },
    {
      "cell_type": "markdown",
      "source": [
        "5. Given a year, determine whether it is a leap year. If it is a leap year, return the Boolean True, otherwise return False.\n",
        "\n",
        "  Note that the code stub provided reads from STDIN and passes arguments to the is_leap function. It is only necessary to complete the is_leap function."
      ],
      "metadata": {
        "id": "qKhIo0m63duC"
      }
    },
    {
      "cell_type": "code",
      "source": [
        "def is_leap(year):\n",
        "    leap = False\n",
        "    if year % 4 == 0:\n",
        "        leap = True\n",
        "    if year % 100 == 0:\n",
        "        if year % 400 == 0:\n",
        "            leap = True\n",
        "        else:\n",
        "            leap = False  \n",
        "    return leap\n",
        "\n",
        "year = int(input())\n",
        "print(is_leap(year))"
      ],
      "metadata": {
        "colab": {
          "base_uri": "https://localhost:8080/"
        },
        "id": "U0Aa5wDNybX3",
        "outputId": "06527b9d-5f3b-4644-e309-fd34815d61ba"
      },
      "execution_count": null,
      "outputs": [
        {
          "output_type": "stream",
          "name": "stdout",
          "text": [
            "1990\n",
            "False\n"
          ]
        }
      ]
    },
    {
      "cell_type": "markdown",
      "source": [
        "6. The included code stub will read an integer, n, from STDIN. Without using any string methods, try to print the following:\n",
        "\n",
        "  123...n\n",
        "\n",
        "  Note that \"...\" represents the consecutive values in between."
      ],
      "metadata": {
        "id": "ULk7TNfTGuNC"
      }
    },
    {
      "cell_type": "code",
      "source": [
        "if __name__ == '__main__':\n",
        "    n = int(input())\n",
        "    \n",
        "    for i in range(1, n + 1):\n",
        "      print(i, end='')"
      ],
      "metadata": {
        "colab": {
          "base_uri": "https://localhost:8080/"
        },
        "id": "88Dxzj55OgaR",
        "outputId": "8b8b1752-962a-4fc5-b368-81f6e53a15d5"
      },
      "execution_count": null,
      "outputs": [
        {
          "output_type": "stream",
          "name": "stdout",
          "text": [
            "3\n",
            "123"
          ]
        }
      ]
    }
  ]
}